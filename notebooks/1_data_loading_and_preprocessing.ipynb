{
 "cells": [
  {
   "cell_type": "code",
   "execution_count": null,
   "metadata": {
    "vscode": {
     "languageId": "plaintext"
    }
   },
   "outputs": [],
   "source": [
    "from scripts.data_loading import load_data, preprocess_data\n",
    "\n",
    "# 데이터 로딩 및 전처리\n",
    "file_path = 'data/sample_data.csv'\n",
    "df = load_data(file_path)\n",
    "df = preprocess_data(df)\n",
    "print(df.head())\n"
   ]
  }
 ],
 "metadata": {
  "language_info": {
   "name": "python"
  }
 },
 "nbformat": 4,
 "nbformat_minor": 2
}
