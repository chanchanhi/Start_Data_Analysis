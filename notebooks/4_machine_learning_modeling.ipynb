{
 "cells": [
  {
   "cell_type": "code",
   "execution_count": null,
   "metadata": {
    "vscode": {
     "languageId": "plaintext"
    }
   },
   "outputs": [],
   "source": [
    "# 1. 데이터 로딩 및 준비\n",
    "import pandas as pd\n",
    "from sklearn.model_selection import train_test_split\n",
    "from sklearn.ensemble import RandomForestClassifier\n",
    "from sklearn.metrics import accuracy_score, classification_report\n",
    "\n",
    "# 피처 엔지니어링 결과 데이터 로드\n",
    "file_path = '../data/processed_data.csv'\n",
    "df = pd.read_csv(file_path)\n",
    "\n",
    "# 입력 변수(X)와 목표 변수(y) 분리\n",
    "X = df[['Age', 'Score', 'Name_encoded']]\n",
    "y = df['Score_category'].apply(lambda x: 1 if x == 'High' else 0)\n",
    "\n",
    "# 2. 데이터셋 분리 (훈련 / 테스트)\n",
    "X_train, X_test, y_train, y_test = train_test_split(X, y, test_size=0.3, random_state=42)\n",
    "\n",
    "# 3. 모델 학습\n",
    "model = RandomForestClassifier(random_state=42)\n",
    "model.fit(X_train, y_train)\n",
    "\n",
    "# 4. 모델 예측\n",
    "y_pred = model.predict(X_test)\n",
    "\n",
    "# 5. 모델 평가\n",
    "print(\"\\n✅ 모델 평가 결과:\")\n",
    "print(\"Accuracy:\", accuracy_score(y_test, y_pred))\n",
    "print(\"Classification Report:\")\n",
    "print(classification_report(y_test, y_pred))\n",
    "\n",
    "# 6. 중요 피처 확인\n",
    "feature_importances = model.feature_importances_\n",
    "feature_names = X.columns\n",
    "\n",
    "print(\"\\n📊 중요 피처:\")\n",
    "for name, importance in zip(feature_names, feature_importances):\n",
    "    print(f\"{name}: {importance:.2f}\")\n"
   ]
  }
 ],
 "metadata": {
  "language_info": {
   "name": "python"
  }
 },
 "nbformat": 4,
 "nbformat_minor": 2
}
