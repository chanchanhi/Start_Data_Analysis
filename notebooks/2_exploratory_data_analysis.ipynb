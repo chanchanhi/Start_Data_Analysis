{
 "cells": [
  {
   "cell_type": "code",
   "execution_count": null,
   "metadata": {
    "vscode": {
     "languageId": "plaintext"
    }
   },
   "outputs": [],
   "source": [
    "from scripts.eda import plot_age_distribution, plot_correlation_matrix\n",
    "\n",
    "# 탐색적 데이터 분석 (EDA)\n",
    "plot_age_distribution(df)\n",
    "plot_correlation_matrix(df)\n"
   ]
  }
 ],
 "metadata": {
  "language_info": {
   "name": "python"
  }
 },
 "nbformat": 4,
 "nbformat_minor": 2
}
