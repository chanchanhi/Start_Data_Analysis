{
 "cells": [
  {
   "cell_type": "code",
   "execution_count": null,
   "metadata": {
    "vscode": {
     "languageId": "plaintext"
    }
   },
   "outputs": [],
   "source": [
    "# 1. 데이터 로딩 및 준비\n",
    "import pandas as pd\n",
    "\n",
    "# 기존 데이터 불러오기 (전처리 완료된 데이터라고 가정)\n",
    "file_path = '../data/sample_data.csv'\n",
    "df = pd.read_csv(file_path)\n",
    "\n",
    "# 2. 범주형 변수 인코딩 (Name -> 숫자)\n",
    "df['Name_encoded'] = pd.factorize(df['Name'])[0]\n",
    "\n",
    "# 3. 파생 변수 생성 (Score가 평균 이상이면 High, 아니면 Low)\n",
    "df['Score_category'] = df['Score'].apply(lambda x: 'High' if x >= df['Score'].mean() else 'Low')\n",
    "\n",
    "# 4. 데이터 확인\n",
    "print(\"🛠️ 피처 엔지니어링 결과:\")\n",
    "print(df)\n",
    "\n",
    "# 5. 데이터 저장\n",
    "df.to_csv('../data/processed_data.csv', index=False)\n"
   ]
  }
 ],
 "metadata": {
  "language_info": {
   "name": "python"
  }
 },
 "nbformat": 4,
 "nbformat_minor": 2
}
